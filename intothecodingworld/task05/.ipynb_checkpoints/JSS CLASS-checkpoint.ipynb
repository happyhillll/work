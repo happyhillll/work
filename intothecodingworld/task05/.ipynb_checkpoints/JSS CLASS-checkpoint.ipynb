{
 "cells": [
  {
   "cell_type": "markdown",
   "id": "08f75aee",
   "metadata": {},
   "source": [
    "# 클래스\n",
    "- 링크 : https://youtu.be/uIcK7-YU8uA"
   ]
  },
  {
   "cell_type": "markdown",
   "id": "b5f3dd19",
   "metadata": {},
   "source": [
    "- 클래스는 __자기소개서__다."
   ]
  },
  {
   "cell_type": "code",
   "execution_count": 3,
   "id": "fe8b4d84",
   "metadata": {},
   "outputs": [],
   "source": [
    "class JSS:\n",
    "    def __init__(self):\n",
    "        self.name=input(\"이름:\")\n",
    "        self.age=input(\"나이:\")"
   ]
  },
  {
   "cell_type": "markdown",
   "id": "6b2f0779",
   "metadata": {},
   "source": [
    "### 1. init이 무엇인가?\n",
    "- 클래스를 선언하자마자 실행되는 함수\n",
    "    - 클래스를 선언한다 : a=JSS() \"자소서 클래스를 a에 할당\"\n"
   ]
  },
  {
   "cell_type": "code",
   "execution_count": 5,
   "id": "5d7880c7",
   "metadata": {},
   "outputs": [],
   "source": [
    "class JSS:\n",
    "    def __init__(self):\n",
    "        print(\"JSS class 선언!\")"
   ]
  },
  {
   "cell_type": "code",
   "execution_count": 6,
   "id": "8d1f0f3b",
   "metadata": {},
   "outputs": [
    {
     "name": "stdout",
     "output_type": "stream",
     "text": [
      "JSS class 선언!\n"
     ]
    }
   ],
   "source": [
    "a=JSS()"
   ]
  },
  {
   "cell_type": "code",
   "execution_count": 7,
   "id": "530225fd",
   "metadata": {},
   "outputs": [],
   "source": [
    "class JSS:\n",
    "    def __init__(self):\n",
    "        print(\"JSS class 선언!\")\n",
    "    #show 함수 추가\n",
    "    def show(self):\n",
    "        print(\"show 실행!\")"
   ]
  },
  {
   "cell_type": "code",
   "execution_count": 8,
   "id": "e382a4a0",
   "metadata": {},
   "outputs": [
    {
     "name": "stdout",
     "output_type": "stream",
     "text": [
      "JSS class 선언!\n"
     ]
    }
   ],
   "source": [
    "a=JSS()"
   ]
  },
  {
   "cell_type": "code",
   "execution_count": 9,
   "id": "919ca017",
   "metadata": {},
   "outputs": [
    {
     "name": "stdout",
     "output_type": "stream",
     "text": [
      "show 실행!\n"
     ]
    }
   ],
   "source": [
    "#show함수를 실행시키고 싶다면\n",
    "a.show()"
   ]
  },
  {
   "cell_type": "markdown",
   "id": "30497315",
   "metadata": {},
   "source": [
    "init이 아닌 함수를 실행하려면 변수 뒤에 \".\"를 붙여서 가지고 와야함"
   ]
  },
  {
   "cell_type": "markdown",
   "id": "09d7928a",
   "metadata": {},
   "source": [
    "--------------------------"
   ]
  },
  {
   "cell_type": "markdown",
   "id": "ab2f70b5",
   "metadata": {},
   "source": [
    "## 2. self란 무엇인가?\n",
    "- 클래스를 저장할 변수 (a,b,c...)\n",
    "- a에 JSS클래스를 선언해주고, show함수를 쓰고 싶다면 a.show로 가져오겠다!"
   ]
  },
  {
   "cell_type": "code",
   "execution_count": 17,
   "id": "994fbabc",
   "metadata": {},
   "outputs": [],
   "source": [
    "class JSS:\n",
    "    def __init__(self):\n",
    "        self.name=input(\"이름:\")\n",
    "        self.age=input(\"나이:\")\n",
    "    def show(self):\n",
    "        print(\"나의 이름은{}. 나이는 {}세입니다.\".format(self.name,self.age))"
   ]
  },
  {
   "cell_type": "code",
   "execution_count": 18,
   "id": "a1d27342",
   "metadata": {},
   "outputs": [
    {
     "name": "stdout",
     "output_type": "stream",
     "text": [
      "이름:Hong Gil Dong\n",
      "나이:30\n"
     ]
    },
    {
     "data": {
      "text/plain": [
       "<bound method JSS.show of <__main__.JSS object at 0x7fa298388c10>>"
      ]
     },
     "execution_count": 18,
     "metadata": {},
     "output_type": "execute_result"
    }
   ],
   "source": [
    "a=JSS()\n",
    "a.name\n",
    "a.age\n",
    "a.show "
   ]
  },
  {
   "cell_type": "code",
   "execution_count": 19,
   "id": "b8ba7c05",
   "metadata": {},
   "outputs": [
    {
     "data": {
      "text/plain": [
       "'Hong Gil Dong'"
      ]
     },
     "execution_count": 19,
     "metadata": {},
     "output_type": "execute_result"
    }
   ],
   "source": [
    "a.name"
   ]
  },
  {
   "cell_type": "code",
   "execution_count": 20,
   "id": "25aca83d",
   "metadata": {},
   "outputs": [
    {
     "data": {
      "text/plain": [
       "'30'"
      ]
     },
     "execution_count": 20,
     "metadata": {},
     "output_type": "execute_result"
    }
   ],
   "source": [
    "a.age"
   ]
  },
  {
   "cell_type": "code",
   "execution_count": 21,
   "id": "7b6adcb0",
   "metadata": {},
   "outputs": [
    {
     "data": {
      "text/plain": [
       "<bound method JSS.show of <__main__.JSS object at 0x7fa298388c10>>"
      ]
     },
     "execution_count": 21,
     "metadata": {},
     "output_type": "execute_result"
    }
   ],
   "source": [
    "a.show"
   ]
  },
  {
   "cell_type": "code",
   "execution_count": 22,
   "id": "1458bf8d",
   "metadata": {},
   "outputs": [
    {
     "name": "stdout",
     "output_type": "stream",
     "text": [
      "나의 이름은Hong Gil Dong. 나이는 30세입니다.\n"
     ]
    }
   ],
   "source": [
    "a.show()"
   ]
  },
  {
   "cell_type": "markdown",
   "id": "8cfbcb76",
   "metadata": {},
   "source": [
    "- a.name, a.age 인데, 혼자 a.show()인 이유?\n",
    " - def show(self)로 함수를 정의해주었는데, 이 함수를 부르기 위해 a.으로 show를 부르면, self는 앞에서 이미 a를 불러주었기 때문에 자리가 비게 된다. \n",
    "     - a.show(a)가 될 순 없으니.."
   ]
  },
  {
   "cell_type": "markdown",
   "id": "eaeb0be0",
   "metadata": {},
   "source": [
    "## 3. 자소서 양식 업데이트\n",
    "- 자소서에 추가할 내용이 있어서 클래스를 업데이트 시켜야할때,\n",
    "- 클래스에서 상속이라는 개념으로 업데이트 가능 : JSS를 그대로 받아와서 JSS2 만들기"
   ]
  },
  {
   "cell_type": "markdown",
   "id": "719abef2",
   "metadata": {},
   "source": [
    "### 1) pass는 그대~로 가져와준다."
   ]
  },
  {
   "cell_type": "code",
   "execution_count": 23,
   "id": "2f522464",
   "metadata": {},
   "outputs": [],
   "source": [
    "class JSS2(JSS):\n",
    "    pass"
   ]
  },
  {
   "cell_type": "code",
   "execution_count": 24,
   "id": "7ddba2be",
   "metadata": {},
   "outputs": [
    {
     "name": "stdout",
     "output_type": "stream",
     "text": [
      "이름:Hong Gil Dong\n",
      "나이:30\n"
     ]
    }
   ],
   "source": [
    "a=JSS2()"
   ]
  },
  {
   "cell_type": "code",
   "execution_count": 25,
   "id": "fe3a0948",
   "metadata": {},
   "outputs": [
    {
     "name": "stdout",
     "output_type": "stream",
     "text": [
      "나의 이름은Hong Gil Dong. 나이는 30세입니다.\n"
     ]
    }
   ],
   "source": [
    "a.show()"
   ]
  },
  {
   "cell_type": "markdown",
   "id": "0ff54be1",
   "metadata": {},
   "source": [
    "### 2) 업데이트"
   ]
  },
  {
   "cell_type": "code",
   "execution_count": 35,
   "id": "8cf010f2",
   "metadata": {},
   "outputs": [],
   "source": [
    "class JSS2(JSS):\n",
    "    def __init__(self):\n",
    "        super().__init__()\n",
    "        self.gender=input(\"성별 : \")"
   ]
  },
  {
   "cell_type": "code",
   "execution_count": 36,
   "id": "6652b778",
   "metadata": {},
   "outputs": [
    {
     "name": "stdout",
     "output_type": "stream",
     "text": [
      "이름:Hong Gil Dong\n",
      "나이:30\n",
      "성별 : male\n"
     ]
    }
   ],
   "source": [
    "a=JSS2()"
   ]
  },
  {
   "cell_type": "code",
   "execution_count": 37,
   "id": "b7b162c5",
   "metadata": {},
   "outputs": [
    {
     "name": "stdout",
     "output_type": "stream",
     "text": [
      "나의 이름은Hong Gil Dong. 나이는 30세입니다.\n"
     ]
    }
   ],
   "source": [
    "a.show()"
   ]
  },
  {
   "cell_type": "markdown",
   "id": "1269fcb4",
   "metadata": {},
   "source": [
    "### 3. show도 업데이트"
   ]
  },
  {
   "cell_type": "code",
   "execution_count": 38,
   "id": "418797ae",
   "metadata": {},
   "outputs": [],
   "source": [
    "class JSS2(JSS):\n",
    "    def __init__(self):\n",
    "        super().__init__()\n",
    "        self.gender=input(\"성별 : \")\n",
    "    def show(self):\n",
    "        print(\"나의 이름은 {}, 성별은 {}, 나이는 {}세입니다.\".format(self.name, self.gender, self.age))"
   ]
  },
  {
   "cell_type": "code",
   "execution_count": 39,
   "id": "0de58acc",
   "metadata": {},
   "outputs": [
    {
     "name": "stdout",
     "output_type": "stream",
     "text": [
      "이름:Hong Gil Dong\n",
      "나이:30\n",
      "성별 : Male\n"
     ]
    }
   ],
   "source": [
    "a=JSS2()"
   ]
  },
  {
   "cell_type": "code",
   "execution_count": 40,
   "id": "5ac40fb4",
   "metadata": {},
   "outputs": [
    {
     "name": "stdout",
     "output_type": "stream",
     "text": [
      "나의 이름은 Hong Gil Dong, 성별은 Male, 나이는 30세입니다.\n"
     ]
    }
   ],
   "source": [
    "a.show()"
   ]
  }
 ],
 "metadata": {
  "kernelspec": {
   "display_name": "Python 3 (ipykernel)",
   "language": "python",
   "name": "python3"
  },
  "language_info": {
   "codemirror_mode": {
    "name": "ipython",
    "version": 3
   },
   "file_extension": ".py",
   "mimetype": "text/x-python",
   "name": "python",
   "nbconvert_exporter": "python",
   "pygments_lexer": "ipython3",
   "version": "3.9.12"
  }
 },
 "nbformat": 4,
 "nbformat_minor": 5
}
