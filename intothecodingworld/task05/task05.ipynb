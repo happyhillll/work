{
 "cells": [
  {
   "cell_type": "markdown",
   "metadata": {},
   "source": [
    "## 과제: Bi-gram LM\n",
    "\n",
    "- 형태소 또는 어절 Bi-gram LM 개발 - [링크](https://wikidocs.net/21692)\n",
    "- LM 특성 상 데이터가 많을수록 모델의 성능이 조씁니다.\n",
    "    - 특히 데이터의 domain 일관성이 높으면 더 좋습니다. - 신문 데이터만 쓰겠다 등등\n",
    "\n",
    "## 영민님 과제\n",
    "\n",
    "- 백준 기본 입출력 문제 풀기 - [링크](https://www.acmicpc.net/step/1)\n",
    "\n",
    "## Search\n",
    "\n",
    "- greedy\n",
    "- [[link](https://blog.naver.com/PostView.naver?blogId=sooftware&logNo=221809101199)] beam-search"
   ]
  },
  {
   "cell_type": "code",
   "execution_count": null,
   "metadata": {
    "vscode": {
     "languageId": "plaintext"
    }
   },
   "outputs": [],
   "source": []
  }
 ],
 "metadata": {
  "language_info": {
   "name": "python"
  },
  "orig_nbformat": 4
 },
 "nbformat": 4,
 "nbformat_minor": 2
}
