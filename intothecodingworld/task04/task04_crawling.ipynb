{
 "cells": [
  {
   "cell_type": "code",
   "execution_count": 28,
   "metadata": {},
   "outputs": [],
   "source": [
    "from bs4 import BeautifulSoup\n",
    "import requests"
   ]
  },
  {
   "cell_type": "code",
   "execution_count": 34,
   "metadata": {},
   "outputs": [
    {
     "name": "stderr",
     "output_type": "stream",
     "text": [
      "c:\\Users\\happyhill24\\AppData\\Local\\Programs\\Python\\Python39\\lib\\site-packages\\urllib3\\connectionpool.py:1045: InsecureRequestWarning: Unverified HTTPS request is being made to host 'search.naver.com'. Adding certificate verification is strongly advised. See: https://urllib3.readthedocs.io/en/1.26.x/advanced-usage.html#ssl-warnings\n",
      "  warnings.warn(\n",
      "c:\\Users\\happyhill24\\AppData\\Local\\Programs\\Python\\Python39\\lib\\site-packages\\urllib3\\connectionpool.py:1045: InsecureRequestWarning: Unverified HTTPS request is being made to host 'search.naver.com'. Adding certificate verification is strongly advised. See: https://urllib3.readthedocs.io/en/1.26.x/advanced-usage.html#ssl-warnings\n",
      "  warnings.warn(\n"
     ]
    },
    {
     "name": "stdout",
     "output_type": "stream",
     "text": [
      "--- Page 1 ---\n",
      "뉴진스, 美롤라팔루자-日서머소닉 출격\n",
      "뉴진스, 3월 아이돌그룹 브랜드평판 1위\n",
      "'온 차트가 뉴진스'…'디토' 1위 질주 언제까지?\n",
      "투모로우바이투게더·뉴진스, 美 '롤라팔루자' 출연(종합)\n",
      "뉴진스(NewJeans), 글로벌 케이팝·디지털·스트리밍 3관왕+써클차트 점유율 ...\n",
      "뉴진스 하니, 흑인 인어공주 할리 베일리와 찐친 케미..글로벌 인맥\n",
      "뉴진스 하니가 '인어공주' 할리 베일리를 닮았다?...논란된 여초 커뮤니티 댓...\n",
      "블랙핑크부터 뉴진스까지…K-팝, 세계 음악 축제의 주인공\n",
      "뉴진스, 애플과 新콜라보 프로젝트\n",
      "박지후 “뉴진스와 공통점 많아, 좋은 인연 이어가고파”\n",
      "--- Page 2 ---\n",
      "뉴진스 '디토', 멜론차트 매주 신기록…13주 연속 1위\n",
      "뉴진스 하니 “‘디토’, 내가 들어도 너무 좋아”\n",
      "뉴진스 하니가 '인어공주' 할리 베일리를 닮았다?...논란된 여초 커뮤니티 댓...\n",
      "블랙핑크부터 뉴진스까지…K-팝, 세계 음악 축제의 주인공\n",
      "[글로벌 K-애정템]BTS·뉴진스도 애용…액세서리 브랜드 '논논'\n",
      "방탄소년단, 美 '빌보드 200' 장기집권…피프티 '글로벌 200' 진입\n",
      "뉴진스·엑소 카이·샤이니 온유·윤하·Christopher&청하·폴킴, 11주차 써클...\n",
      "임영웅, 유튜브 뮤직 최근 7일 조회수 톱2\n",
      "스테이씨‧뉴진스부터 첫사랑까지, 4세대 '영에이지' 걸그룹 주목 [엑's 초점...\n",
      "‘너목보10’ 1호 포텐싱어는 가수 신효범…”언제 뉴진스 노래 불러보겠어”\n"
     ]
    },
    {
     "name": "stderr",
     "output_type": "stream",
     "text": [
      "c:\\Users\\happyhill24\\AppData\\Local\\Programs\\Python\\Python39\\lib\\site-packages\\urllib3\\connectionpool.py:1045: InsecureRequestWarning: Unverified HTTPS request is being made to host 'search.naver.com'. Adding certificate verification is strongly advised. See: https://urllib3.readthedocs.io/en/1.26.x/advanced-usage.html#ssl-warnings\n",
      "  warnings.warn(\n",
      "c:\\Users\\happyhill24\\AppData\\Local\\Programs\\Python\\Python39\\lib\\site-packages\\urllib3\\connectionpool.py:1045: InsecureRequestWarning: Unverified HTTPS request is being made to host 'search.naver.com'. Adding certificate verification is strongly advised. See: https://urllib3.readthedocs.io/en/1.26.x/advanced-usage.html#ssl-warnings\n",
      "  warnings.warn(\n"
     ]
    },
    {
     "name": "stdout",
     "output_type": "stream",
     "text": [
      "--- Page 3 ---\n",
      "[Y패션] 이정재 뉴진스 카이 등 韓 디자이너 알리는 의미 있는 행보\n",
      "[어떤가요] \"류진숙이 부릅니다, 어마이 어마이~\", 뽕짝 뉴진스 이유있는 인기\n",
      "“걸쳤다 하면 품절”...이러니 루이비통 디올도 서로 모시려하지\n",
      "“아이유 초대하고싶어”..‘너목보10’, 웃음으로 무장한 역대급 시즌 [종합...\n",
      "뉴진스, 3월 1주차 아차랭킹 1위\n",
      "11주차 써클차트, 뉴진스 3관왕·카이 2관왕 차지..남다른 인기 입증\n",
      "뉴진스 민지, 3월 걸그룹 개인 브랜드 평판 1위\n",
      "뉴진스 하니 \"민지, 내 사진 가장 잘 찍어주는 멤버\"\n",
      "뉴진스 'OMG', 스포티파이 2억 스트리밍 돌파\n",
      "[인터뷰] 윤도현의 영원한 단짝, ‘음악’\n",
      "--- Page 4 ---\n",
      "뉴진스와 케이팝적 오타쿠의 탄생\n",
      "“딱 10배 즐거워졌다”….강력 패널X신선 포맷으로 돌아온 ’너목보10’ [종...\n",
      "바비 \"뉴진스 노래 너무 좋아…K팝 퀄리티 높아져\"[인터뷰]③\n",
      "뉴진스 '디토'에 뽕짝 있다?…작곡가 음악관 들어보니\n",
      "뉴진스, 빌보드 '글로벌 200' K팝 걸그룹 신기록\n",
      "맥크리스피 인기에… 맥도날드, 작년 치킨 버거 판매량 30% ↑\n",
      "뉴진스vs뉴진스..'OMG', 방송 출연없이 '인기가요' 1위[종합]\n",
      "뉴진스 민지, 3월 걸그룹 브랜드 평판 1위 [연예뉴스 HOT]\n",
      "‘더 시즌즈’ 소란, 공연 최강자 퍼포먼스···소란 버전 뉴진스 ‘Hype Bo...\n",
      "뉴진스, '대세 of 대세'의 매력 넘치는 비주얼[화보]\n"
     ]
    },
    {
     "name": "stderr",
     "output_type": "stream",
     "text": [
      "c:\\Users\\happyhill24\\AppData\\Local\\Programs\\Python\\Python39\\lib\\site-packages\\urllib3\\connectionpool.py:1045: InsecureRequestWarning: Unverified HTTPS request is being made to host 'search.naver.com'. Adding certificate verification is strongly advised. See: https://urllib3.readthedocs.io/en/1.26.x/advanced-usage.html#ssl-warnings\n",
      "  warnings.warn(\n",
      "c:\\Users\\happyhill24\\AppData\\Local\\Programs\\Python\\Python39\\lib\\site-packages\\urllib3\\connectionpool.py:1045: InsecureRequestWarning: Unverified HTTPS request is being made to host 'search.naver.com'. Adding certificate verification is strongly advised. See: https://urllib3.readthedocs.io/en/1.26.x/advanced-usage.html#ssl-warnings\n",
      "  warnings.warn(\n"
     ]
    },
    {
     "name": "stdout",
     "output_type": "stream",
     "text": [
      "--- Page 5 ---\n",
      "멜론, 뉴진스 천하ing\n",
      "우성사료, 정육형 돼지의 최대 성장·단백질 축적 가능...'NL 뉴진스 1,2,3' ...\n",
      "뉴진스, 3월 광고모델 브랜드평판 1위‥BTS 2위\n",
      "[잇슈 연예] 해외 음악 축제 무대 서는 ‘4세대 아이돌’\n",
      "'뉴진스' 키워낸 LB인베스트먼트… 수요예측 흥행 업고 일반청약 돌입\n",
      "'2023 F/W 서울패션위크' 홍보대사 뉴진스, 오프닝 패션쇼 빛낸 홍보요정들\n",
      "똑똑한 소비자가 찾는 명품 플랫폼 ‘구하다’… 그 비결은\n",
      "뉴진스, 걸그룹 브랜드평판 1위...블랙핑크 2위·하이키 3위\n",
      "뉴진스 다니엘, 입생로랑 뷰티 앰버서더 발탁\n",
      "황치열 \"'너목보', 인생 180도 바뀌어\"…8년 만에 참가자→패널 [종합]\n",
      "--- Page 6 ---\n",
      "'서울패션위크' 15일 개막…홍보대사 뉴진스가 개막 포토콜\n",
      "뉴진스, 옆모습도 예쁨\n",
      "블루카펫 뉴진스 [MK포토]\n",
      "\"말 안 해도 공감할 수 있는 '뽕짝'\"…'뉴진스' 인기 비결\n",
      "[일간스포츠X뮤빗] 귀여움 끝판왕! 고양이 이모지가 잘 어울리는 스타는?\n",
      "뉴진스, 10주차 써클차트 3관왕\n",
      "‘15년 전 뉴진스 열풍급’…선예 “원더걸스 ‘Tell me’ 때 난리” (아형)\n",
      "'서준맘' 박세미, 신도시母의 '뉴진스' 등극…끼 대방출\n",
      "바다 \"내가 뉴진스 민지 닮았다고..음악 매일 들어\"(아형)[★밤TV]\n",
      "채정안 ‘갑분’ 뉴진스 따라잡기...시간이 야속해라(채정안TV)\n"
     ]
    },
    {
     "name": "stderr",
     "output_type": "stream",
     "text": [
      "c:\\Users\\happyhill24\\AppData\\Local\\Programs\\Python\\Python39\\lib\\site-packages\\urllib3\\connectionpool.py:1045: InsecureRequestWarning: Unverified HTTPS request is being made to host 'search.naver.com'. Adding certificate verification is strongly advised. See: https://urllib3.readthedocs.io/en/1.26.x/advanced-usage.html#ssl-warnings\n",
      "  warnings.warn(\n",
      "c:\\Users\\happyhill24\\AppData\\Local\\Programs\\Python\\Python39\\lib\\site-packages\\urllib3\\connectionpool.py:1045: InsecureRequestWarning: Unverified HTTPS request is being made to host 'search.naver.com'. Adding certificate verification is strongly advised. See: https://urllib3.readthedocs.io/en/1.26.x/advanced-usage.html#ssl-warnings\n",
      "  warnings.warn(\n"
     ]
    },
    {
     "name": "stdout",
     "output_type": "stream",
     "text": [
      "--- Page 7 ---\n",
      "뉴진스 메이플스토리 콜라보? 민희진이 선 딱 그으면서 한 말 (+공식입장)\n",
      "[오마이포토] 뉴진스, '서울패션위크' 홍보대사\n",
      "포즈 취하는 뉴진스\n",
      "뉴진스, 두 달여 만 오리콘 정상 탈환\n",
      "뉴진스, 반희수, 새 물결 [아트총각의 신세계]\n",
      "손하트 만드는 뉴진스\n",
      "서울패션위크에 뜬 뉴진스\n",
      "블루카펫 걷는 뉴진스\n",
      "포토월 앞에 선 뉴진스\n",
      "뉴진스 하니 '깜찍한 손하트'\n",
      "--- Page 8 ---\n",
      "서울패션위크 참석한 뉴진스\n",
      "뉴진스 민지 ‘눈빛 설레임...스윗 모먼트’ [MK화보]\n",
      "포토월 들어서는 뉴진스\n",
      "뉴진스 혜인, 봄 몰고 온 나비 여신… 폼 미쳤다 [스타★샷]\n",
      "[창+] K-POP, “춤 되는 가수 말고 노래 잘하는 댄서”…퍼포먼스 우선주의\n",
      "[펀펀한 현장] 뉴진스→강소라, '패피 스타들 총출동'\n",
      "스즈메·디토·삼남매·미스터트롯2·더글로리, 1위 [한눈에 보는 엔터차트]\n",
      "[GJ포토] 뉴진스 민지, '무결점 미모'(서울패션위크 얼킨)\n",
      "뉴진스 혜인, 시크한 하트\n",
      "뉴진스 해린, 상큼 인사\n",
      "--- Page 9 ---\n",
      "뉴진스, 스포티파이 누적 스트리밍 10억회 돌파\n",
      "뉴진스와 함께하는 서울패션위크\n",
      "뉴진스 해린-민지 '사랑스럽게'\n",
      "뉴진스 민지, 요정의 하트\n",
      "뉴진스 다니엘, 심쿵 요정\n",
      "뉴진스 혜인, 사랑스러운 인사\n",
      "뉴진스, 한국대중음악상 3관왕 영예\n",
      "뉴진스 하니, DDP 뜬 바비인형\n",
      "뉴진스, 日 최대 패션축제 뜨자 '들썩'\n",
      "뉴진스 서울패션위크 나들이\n"
     ]
    },
    {
     "name": "stderr",
     "output_type": "stream",
     "text": [
      "c:\\Users\\happyhill24\\AppData\\Local\\Programs\\Python\\Python39\\lib\\site-packages\\urllib3\\connectionpool.py:1045: InsecureRequestWarning: Unverified HTTPS request is being made to host 'search.naver.com'. Adding certificate verification is strongly advised. See: https://urllib3.readthedocs.io/en/1.26.x/advanced-usage.html#ssl-warnings\n",
      "  warnings.warn(\n"
     ]
    }
   ],
   "source": [
    "base_url = \"https://search.naver.com/search.naver?where=news&sm=tab_jum&query=\"\n",
    "search_url = base_url + keyword\n",
    "\n",
    "for page_num in range(1, 10):  # 2 페이지까지 크롤링\n",
    "    next_url = search_url + \"&start=\" + str(10 * (page_num - 1))\n",
    "    r = requests.get(next_url, verify=False)\n",
    "    soup = BeautifulSoup(r.text, 'html.parser')\n",
    "    items = soup.select(\".news_tit\")\n",
    "    print(f\"--- Page {page_num} ---\")\n",
    "    for item in items:\n",
    "        print(item.text)"
   ]
  },
  {
   "cell_type": "code",
   "execution_count": 36,
   "metadata": {},
   "outputs": [
    {
     "ename": "SyntaxError",
     "evalue": "invalid syntax (2592265822.py, line 1)",
     "output_type": "error",
     "traceback": [
      "\u001b[1;36m  Cell \u001b[1;32mIn[36], line 1\u001b[1;36m\u001b[0m\n\u001b[1;33m    --- Page 1 ---\u001b[0m\n\u001b[1;37m             ^\u001b[0m\n\u001b[1;31mSyntaxError\u001b[0m\u001b[1;31m:\u001b[0m invalid syntax\n"
     ]
    }
   ],
   "source": [
    "--- Page 7 ---\n",
    "뉴진스 메이플스토리 콜라보? 민희진이 선 딱 그으면서 한 말 (+공식입장)\n",
    "[오마이포토] 뉴진스, '서울패션위크' 홍보대사\n",
    "포즈 취하는 뉴진스\n",
    "뉴진스, 두 달여 만 오리콘 정상 탈환\n",
    "뉴진스, 반희수, 새 물결 [아트총각의 신세계]\n",
    "손하트 만드는 뉴진스\n",
    "서울패션위크에 뜬 뉴진스\n",
    "블루카펫 걷는 뉴진스\n",
    "포토월 앞에 선 뉴진스\n",
    "뉴진스 하니 '깜찍한 손하트'\n",
    "--- Page 8 ---\n",
    "서울패션위크 참석한 뉴진스\n",
    "뉴진스 민지 ‘눈빛 설레임...스윗 모먼트’ [MK화보]\n",
    "포토월 들어서는 뉴진스\n",
    "뉴진스 혜인, 봄 몰고 온 나비 여신… 폼 미쳤다 [스타★샷]\n",
    "[창+] K-POP, “춤 되는 가수 말고 노래 잘하는 댄서”…퍼포먼스 우선주의\n",
    "[펀펀한 현장] 뉴진스→강소라, '패피 스타들 총출동'\n",
    "스즈메·디토·삼남매·미스터트롯2·더글로리, 1위 [한눈에 보는 엔터차트]\n",
    "[GJ포토] 뉴진스 민지, '무결점 미모'(서울패션위크 얼킨)\n",
    "뉴진스 혜인, 시크한 하트\n",
    "뉴진스 해린, 상큼 인사\n",
    "--- Page 9 ---\n",
    "뉴진스, 스포티파이 누적 스트리밍 10억회 돌파\n",
    "뉴진스와 함께하는 서울패션위크\n",
    "...\n",
    "뉴진스, 한국대중음악상 3관왕 영예\n",
    "뉴진스 하니, DDP 뜬 바비인형\n",
    "뉴진스, 日 최대 패션축제 뜨자 '들썩'\n",
    "뉴진스 서울패션위크 나들이\n",
    "\n",
    "이 str을 newjeans.txt 파일로 저장하고 싶어"
   ]
  },
  {
   "cell_type": "code",
   "execution_count": 35,
   "metadata": {},
   "outputs": [],
   "source": [
    "# 파일을 쓰기 모드로 열기\n",
    "with open(\"newnewjeans.txt\", \"w\") as f:\n",
    "    # item 리스트의 각 요소를 한 줄씩 파일에 쓰기\n",
    "    for item in items:\n",
    "        f.write(str(item.text) + \"\\n\")"
   ]
  },
  {
   "cell_type": "code",
   "execution_count": 11,
   "metadata": {},
   "outputs": [
    {
     "name": "stdout",
     "output_type": "stream",
     "text": [
      "https://search.naver.com/search.naver?where=view&sm=tab_jum&query=뉴진스\n"
     ]
    },
    {
     "name": "stderr",
     "output_type": "stream",
     "text": [
      "c:\\Users\\happyhill24\\AppData\\Local\\Programs\\Python\\Python39\\lib\\site-packages\\urllib3\\connectionpool.py:1045: InsecureRequestWarning: Unverified HTTPS request is being made to host 'search.naver.com'. Adding certificate verification is strongly advised. See: https://urllib3.readthedocs.io/en/1.26.x/advanced-usage.html#ssl-warnings\n",
      "  warnings.warn(\n"
     ]
    },
    {
     "name": "stdout",
     "output_type": "stream",
     "text": [
      "세계 음악 차트 1위, 아이븦 장원영·안유진 합류 아이브 ‘급부상’‘뉴진스도 4세대 걸그룹 선도\n",
      "아이브 장원영X뉴진스 민지 졸업사진→25㎝ 성장 정동원 입학식 현장 공개(연중 플러스)\n",
      "세계 음악 차트 1위, 아이븦 장원영·안유진 합류 아이브 ‘급부상’‘뉴진스도 4세대 걸그룹 선도\n",
      "아이브 장원영X뉴진스 민지 졸업사진→25㎝ 성장 정동원 입학식 현장 공개(연중 플러스)\n",
      "임영웅, '유튜브 최근 7일 조회수'서 아이유도 제쳤다! 톱2에 오르며 뉴진스 향해 진격 중!\n",
      "'갓 스물' 뉴진스 민지, 김고은-블랙핑크 제니 이어…명품 앰버서더 발탁\n",
      "임영웅, '유튜브 최근 7일 조회수'서 아이유도 제쳤다! 톱2에 오르며 뉴진스 향해 진격 중!\n",
      "임영웅, '유튜브 최근 7일 조회수'서 아이유도 제쳤다! 톱2에 오르며 뉴진스 향해 진격 중!\n",
      "임영웅, '유튜브 최근 7일 조회수'서 아*유도 제쳤다! 톱2에 오르며 뉴진스 향해 진격 중\n",
      "대전춤쟁이ㅣNewJeans (뉴진스) - 'Ditto'ㅣKa Eun K-pop Classㅣ대전댄스학원ㅣ둔산점\n"
     ]
    }
   ],
   "source": [
    "from bs4 import BeautifulSoup\n",
    "import requests\n",
    "1. 페이지 번호를 파라미터로 추가해 URL을 생성합니다.\n",
    "\n",
    "```python\n",
    "page_num = 2  # 다음 페이지 번호\n",
    "next_url = search_url + \"&start=\" + str(10 * (page_num - 1))\n",
    "```\n",
    "\n",
    "2. requests.get() 함수에 다음 페이지 URL을 전달하여 응답을 받습니다.\n",
    "\n",
    "```python\n",
    "r = requests.get(next_url, verify=False)\n",
    "```\n",
    "\n",
    "3. BeautifulSoup으로 HTML을 파싱하여 다음 페이지의 아이템을 추출합니다.\n",
    "\n",
    "```python\n",
    "soup = BeautifulSoup(r.text, 'html.parser')\n",
    "items = soup.select(\".api_txt_lines.total_tit\")\n",
    "```\n",
    "\n",
    "4. 추출한 아이템을 출력하거나 저장합니다.\n",
    "\n",
    "```python\n",
    "for item in items:\n",
    "    print(item.text)\n",
    "```\n",
    "\n",
    "전체 코드:\n",
    "\n",
    "```python\n",
    "\n",
    "base_url = \"https://search.naver.com/search.naver?where=view&sm=tab_jum&query=\"\n",
    "keyword = input(\"검색어를 입력하세요: \")\n",
    "search_url = base_url + keyword\n",
    "\n",
    "for page_num in range(1, 3):  # 2 페이지까지 크롤링\n",
    "    next_url = search_url + \"&start=\" + str(10 * (page_num - 1))\n",
    "    r = requests.get(next_url, verify=False)\n",
    "    soup = BeautifulSoup(r.text, 'html.parser')\n",
    "    items = soup.select(\".api_txt_lines.total_tit\")\n",
    "    print(f\"--- Page {page_num} ---\")\n",
    "    for item in items:\n",
    "        print(item.text)\n",
    "```\n",
    "    "
   ]
  },
  {
   "cell_type": "code",
   "execution_count": 19,
   "metadata": {},
   "outputs": [],
   "source": [
    "# 파일을 쓰기 모드로 열기\n",
    "with open(\"newjeans.txt\", \"w\") as f:\n",
    "    # item 리스트의 각 요소를 한 줄씩 파일에 쓰기\n",
    "    for item in items:\n",
    "        f.write(str(item.text) + \"\\n\")\n"
   ]
  },
  {
   "cell_type": "code",
   "execution_count": null,
   "metadata": {},
   "outputs": [],
   "source": []
  }
 ],
 "metadata": {
  "kernelspec": {
   "display_name": "Python 3",
   "language": "python",
   "name": "python3"
  },
  "language_info": {
   "codemirror_mode": {
    "name": "ipython",
    "version": 3
   },
   "file_extension": ".py",
   "mimetype": "text/x-python",
   "name": "python",
   "nbconvert_exporter": "python",
   "pygments_lexer": "ipython3",
   "version": "3.9.13"
  },
  "orig_nbformat": 4
 },
 "nbformat": 4,
 "nbformat_minor": 2
}
