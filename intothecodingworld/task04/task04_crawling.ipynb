{
 "cells": [
  {
   "cell_type": "code",
   "execution_count": 1,
   "metadata": {},
   "outputs": [],
   "source": [
    "from bs4 import BeautifulSoup\n",
    "import requests"
   ]
  },
  {
   "cell_type": "code",
   "execution_count": null,
   "metadata": {},
   "outputs": [],
   "source": [
    "base_url = \"https://search.naver.com/search.naver?where=view&sm=tab_jum&query=\"\n",
    "keyword = input(\"검색어를 입력하세요: \")\n",
    "search_url = base_url + keyword"
   ]
  },
  {
   "cell_type": "code",
   "execution_count": 10,
   "metadata": {},
   "outputs": [
    {
     "name": "stderr",
     "output_type": "stream",
     "text": [
      "c:\\Users\\happyhill24\\AppData\\Local\\Programs\\Python\\Python39\\lib\\site-packages\\urllib3\\connectionpool.py:1045: InsecureRequestWarning: Unverified HTTPS request is being made to host 'search.naver.com'. Adding certificate verification is strongly advised. See: https://urllib3.readthedocs.io/en/1.26.x/advanced-usage.html#ssl-warnings\n",
      "  warnings.warn(\n",
      "c:\\Users\\happyhill24\\AppData\\Local\\Programs\\Python\\Python39\\lib\\site-packages\\urllib3\\connectionpool.py:1045: InsecureRequestWarning: Unverified HTTPS request is being made to host 'search.naver.com'. Adding certificate verification is strongly advised. See: https://urllib3.readthedocs.io/en/1.26.x/advanced-usage.html#ssl-warnings\n",
      "  warnings.warn(\n",
      "c:\\Users\\happyhill24\\AppData\\Local\\Programs\\Python\\Python39\\lib\\site-packages\\urllib3\\connectionpool.py:1045: InsecureRequestWarning: Unverified HTTPS request is being made to host 'search.naver.com'. Adding certificate verification is strongly advised. See: https://urllib3.readthedocs.io/en/1.26.x/advanced-usage.html#ssl-warnings\n",
      "  warnings.warn(\n",
      "c:\\Users\\happyhill24\\AppData\\Local\\Programs\\Python\\Python39\\lib\\site-packages\\urllib3\\connectionpool.py:1045: InsecureRequestWarning: Unverified HTTPS request is being made to host 'search.naver.com'. Adding certificate verification is strongly advised. See: https://urllib3.readthedocs.io/en/1.26.x/advanced-usage.html#ssl-warnings\n",
      "  warnings.warn(\n",
      "c:\\Users\\happyhill24\\AppData\\Local\\Programs\\Python\\Python39\\lib\\site-packages\\urllib3\\connectionpool.py:1045: InsecureRequestWarning: Unverified HTTPS request is being made to host 'search.naver.com'. Adding certificate verification is strongly advised. See: https://urllib3.readthedocs.io/en/1.26.x/advanced-usage.html#ssl-warnings\n",
      "  warnings.warn(\n",
      "c:\\Users\\happyhill24\\AppData\\Local\\Programs\\Python\\Python39\\lib\\site-packages\\urllib3\\connectionpool.py:1045: InsecureRequestWarning: Unverified HTTPS request is being made to host 'search.naver.com'. Adding certificate verification is strongly advised. See: https://urllib3.readthedocs.io/en/1.26.x/advanced-usage.html#ssl-warnings\n",
      "  warnings.warn(\n",
      "c:\\Users\\happyhill24\\AppData\\Local\\Programs\\Python\\Python39\\lib\\site-packages\\urllib3\\connectionpool.py:1045: InsecureRequestWarning: Unverified HTTPS request is being made to host 'search.naver.com'. Adding certificate verification is strongly advised. See: https://urllib3.readthedocs.io/en/1.26.x/advanced-usage.html#ssl-warnings\n",
      "  warnings.warn(\n",
      "c:\\Users\\happyhill24\\AppData\\Local\\Programs\\Python\\Python39\\lib\\site-packages\\urllib3\\connectionpool.py:1045: InsecureRequestWarning: Unverified HTTPS request is being made to host 'search.naver.com'. Adding certificate verification is strongly advised. See: https://urllib3.readthedocs.io/en/1.26.x/advanced-usage.html#ssl-warnings\n",
      "  warnings.warn(\n",
      "c:\\Users\\happyhill24\\AppData\\Local\\Programs\\Python\\Python39\\lib\\site-packages\\urllib3\\connectionpool.py:1045: InsecureRequestWarning: Unverified HTTPS request is being made to host 'search.naver.com'. Adding certificate verification is strongly advised. See: https://urllib3.readthedocs.io/en/1.26.x/advanced-usage.html#ssl-warnings\n",
      "  warnings.warn(\n"
     ]
    }
   ],
   "source": [
    "with open(\"newjeans.txt\", \"w\", encoding=\"utf-8\") as f:\n",
    "#\"newjeans.txt\" 파일을 쓰기 모드로 열고, 파일 객체를 f에 할당한다. 인코딩은 utf-8로 설정한다.\n",
    "\n",
    "    for page_num in range(1, 10):  # 2 페이지까지 크롤링\n",
    "#1부터 9까지의 범위에서 반복문을 실행한다. 페이지 번호를 나타내는 변수 이름은 page_num이다.\n",
    "\n",
    "        next_url = search_url + \"&start=\" + str(10 * (page_num - 1))\n",
    "#next_url 변수에는 검색 URL과 페이지 번호를 조합한 URL이 할당된다. 페이지 번호가 1일 경우 \"&start=0\"이 되고, 2일 경우 \"&start=10\"이 된다.\n",
    "\n",
    "        r = requests.get(next_url, verify=False)\n",
    "#requests 모듈을 사용하여 next_url에 GET 요청을 보내고, 응답 객체를 r에 할당한다. verify = False는 SSL 인증서 검증을 하지 않도록 설정한 것이다.\n",
    "\n",
    "        soup = BeautifulSoup(r.text, 'html.parser')\n",
    "# BeautifulSoup 모듈을 사용하여 r.text를 파싱하고, 파싱된 결과를 soup에 할당한다. 파서는 html.parser를 사용한다.\n",
    "\n",
    "        items = soup.select(\".news_tit\")\n",
    "#soup에서 \".news_tit\" 클래스를 가진 요소들을 모두 찾아서 items에 할당한다.\n",
    "\n",
    "        for item in items:\n",
    "            f.write(item.text + \"\\n\")\n",
    "#items에 있는 모든 요소의 텍스트를 파일 객체 f에 출력한다. 각 요소는 개행 문자로 구분된다.\n"
   ]
  },
  {
   "cell_type": "code",
   "execution_count": 3,
   "metadata": {},
   "outputs": [
    {
     "ename": "SyntaxError",
     "evalue": "invalid syntax (2616197457.py, line 1)",
     "output_type": "error",
     "traceback": [
      "\u001b[1;36m  Cell \u001b[1;32mIn[3], line 1\u001b[1;36m\u001b[0m\n\u001b[1;33m    --- Page 7 ---\u001b[0m\n\u001b[1;37m             ^\u001b[0m\n\u001b[1;31mSyntaxError\u001b[0m\u001b[1;31m:\u001b[0m invalid syntax\n"
     ]
    }
   ],
   "source": [
    "with open(\"newjeans.txt\", \"w\") as file:\n",
    "    file.write(str)\n"
   ]
  },
  {
   "cell_type": "code",
   "execution_count": 35,
   "metadata": {},
   "outputs": [],
   "source": [
    "# 파일을 쓰기 모드로 열기\n",
    "with open(\"newnewjeans.txt\", \"w\") as f:\n",
    "    # item 리스트의 각 요소를 한 줄씩 파일에 쓰기\n",
    "    for item in items:\n",
    "        f.write(str(item.text) + \"\\n\")"
   ]
  },
  {
   "cell_type": "code",
   "execution_count": 11,
   "metadata": {},
   "outputs": [
    {
     "name": "stdout",
     "output_type": "stream",
     "text": [
      "https://search.naver.com/search.naver?where=view&sm=tab_jum&query=뉴진스\n"
     ]
    },
    {
     "name": "stderr",
     "output_type": "stream",
     "text": [
      "c:\\Users\\happyhill24\\AppData\\Local\\Programs\\Python\\Python39\\lib\\site-packages\\urllib3\\connectionpool.py:1045: InsecureRequestWarning: Unverified HTTPS request is being made to host 'search.naver.com'. Adding certificate verification is strongly advised. See: https://urllib3.readthedocs.io/en/1.26.x/advanced-usage.html#ssl-warnings\n",
      "  warnings.warn(\n"
     ]
    },
    {
     "name": "stdout",
     "output_type": "stream",
     "text": [
      "세계 음악 차트 1위, 아이븦 장원영·안유진 합류 아이브 ‘급부상’‘뉴진스도 4세대 걸그룹 선도\n",
      "아이브 장원영X뉴진스 민지 졸업사진→25㎝ 성장 정동원 입학식 현장 공개(연중 플러스)\n",
      "세계 음악 차트 1위, 아이븦 장원영·안유진 합류 아이브 ‘급부상’‘뉴진스도 4세대 걸그룹 선도\n",
      "아이브 장원영X뉴진스 민지 졸업사진→25㎝ 성장 정동원 입학식 현장 공개(연중 플러스)\n",
      "임영웅, '유튜브 최근 7일 조회수'서 아이유도 제쳤다! 톱2에 오르며 뉴진스 향해 진격 중!\n",
      "'갓 스물' 뉴진스 민지, 김고은-블랙핑크 제니 이어…명품 앰버서더 발탁\n",
      "임영웅, '유튜브 최근 7일 조회수'서 아이유도 제쳤다! 톱2에 오르며 뉴진스 향해 진격 중!\n",
      "임영웅, '유튜브 최근 7일 조회수'서 아이유도 제쳤다! 톱2에 오르며 뉴진스 향해 진격 중!\n",
      "임영웅, '유튜브 최근 7일 조회수'서 아*유도 제쳤다! 톱2에 오르며 뉴진스 향해 진격 중\n",
      "대전춤쟁이ㅣNewJeans (뉴진스) - 'Ditto'ㅣKa Eun K-pop Classㅣ대전댄스학원ㅣ둔산점\n"
     ]
    }
   ],
   "source": [
    "from bs4 import BeautifulSoup\n",
    "import requests\n",
    "1. 페이지 번호를 파라미터로 추가해 URL을 생성합니다.\n",
    "\n",
    "```python\n",
    "page_num = 2  # 다음 페이지 번호\n",
    "next_url = search_url + \"&start=\" + str(10 * (page_num - 1))\n",
    "```\n",
    "\n",
    "2. requests.get() 함수에 다음 페이지 URL을 전달하여 응답을 받습니다.\n",
    "\n",
    "```python\n",
    "r = requests.get(next_url, verify=False)\n",
    "```\n",
    "\n",
    "3. BeautifulSoup으로 HTML을 파싱하여 다음 페이지의 아이템을 추출합니다.\n",
    "\n",
    "```python\n",
    "soup = BeautifulSoup(r.text, 'html.parser')\n",
    "items = soup.select(\".api_txt_lines.total_tit\")\n",
    "```\n",
    "\n",
    "4. 추출한 아이템을 출력하거나 저장합니다.\n",
    "\n",
    "```python\n",
    "for item in items:\n",
    "    print(item.text)\n",
    "```\n",
    "\n",
    "전체 코드:\n",
    "\n",
    "```python\n",
    "\n",
    "base_url = \"https://search.naver.com/search.naver?where=view&sm=tab_jum&query=\"\n",
    "keyword = input(\"검색어를 입력하세요: \")\n",
    "search_url = base_url + keyword\n",
    "\n",
    "for page_num in range(1, 3):  # 2 페이지까지 크롤링\n",
    "    next_url = search_url + \"&start=\" + str(10 * (page_num - 1))\n",
    "    r = requests.get(next_url, verify=False)\n",
    "    soup = BeautifulSoup(r.text, 'html.parser')\n",
    "    items = soup.select(\".api_txt_lines.total_tit\")\n",
    "    print(f\"--- Page {page_num} ---\")\n",
    "    for item in items:\n",
    "        print(item.text)\n",
    "```\n",
    "    "
   ]
  },
  {
   "cell_type": "code",
   "execution_count": 19,
   "metadata": {},
   "outputs": [],
   "source": [
    "# 파일을 쓰기 모드로 열기\n",
    "with open(\"newjeans.txt\", \"w\") as f:\n",
    "    # item 리스트의 각 요소를 한 줄씩 파일에 쓰기\n",
    "    for item in items:\n",
    "        f.write(str(item.text) + \"\\n\")\n"
   ]
  },
  {
   "cell_type": "code",
   "execution_count": null,
   "metadata": {},
   "outputs": [],
   "source": []
  }
 ],
 "metadata": {
  "kernelspec": {
   "display_name": "Python 3",
   "language": "python",
   "name": "python3"
  },
  "language_info": {
   "codemirror_mode": {
    "name": "ipython",
    "version": 3
   },
   "file_extension": ".py",
   "mimetype": "text/x-python",
   "name": "python",
   "nbconvert_exporter": "python",
   "pygments_lexer": "ipython3",
   "version": "3.9.13"
  },
  "orig_nbformat": 4
 },
 "nbformat": 4,
 "nbformat_minor": 2
}
